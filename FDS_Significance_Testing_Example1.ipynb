{
  "nbformat": 4,
  "nbformat_minor": 0,
  "metadata": {
    "colab": {
      "name": "FDS Significance Testing.ipynb",
      "provenance": []
    },
    "kernelspec": {
      "name": "python3",
      "display_name": "Python 3"
    }
  },
  "cells": [
    {
      "cell_type": "markdown",
      "metadata": {
        "id": "mrKWO1UbO-lF"
      },
      "source": [
        "# **p-value in Python Statistics**\r\n",
        "When talking statistics, a p-value for a statistical model is the probability that when the null hypothesis is true, the statistical summary is equal to or greater than the actual observed results. This is also termed ‘probability value’ or ‘asymptotic significance’."
      ]
    },
    {
      "cell_type": "markdown",
      "metadata": {
        "id": "F1cv6wqdPFys"
      },
      "source": [
        "The null hypothesis states that two measured phenomena experience no relationship to each other. We denote this as H or H0. One such null hypothesis can be that the number of hours spent in the office affects the amount of salary paid. For a significance level of 5%, if the p-value falls lower than 5%, the null hypothesis is invalidated. Then it is discovered that the number of hours you spend in your office will not affect the amount of salary you will take home. Note that p-values can range from 0% to 100% and we write them in decimals. A p-value for 5% will be 0.05.\r\n",
        "\r\n",
        "A smaller p-value bears more significance as it can tell you that the hypothesis may not explain the observation fairly. If one or more of these probabilities turn out to be less than or equal to α, the level of significance, we reject the null hypothesis. For a true null hypothesis, p can take on any value between 0 and 1 with equal likeliness. For a true alternative hypothesis, p-values likely fall closer to 0.\r\n",
        "\r\n",
        "\r\n",
        "![image.png](data:image/png;base64,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)"
      ]
    },
    {
      "cell_type": "markdown",
      "metadata": {
        "id": "XJRqQa28PZR8"
      },
      "source": [
        "**T-test in Python Statistics**\r\n",
        "test tells us whether a sample of numeric data strays or differs significantly from the population. It also talks about two samples- whether they’re different. In other words, it gives us the probability of difference between populations. The test involves a t-statistic. For small samples, we can use a T-test with two samples."
      ]
    },
    {
      "cell_type": "markdown",
      "metadata": {
        "id": "Wpe2KjTXPfb0"
      },
      "source": [
        "# **A. One-sample T-test with Python**\r\n",
        "Let’s try this on a single sample. The test will tell us whether means of the sample and the population are different. Consider the voting populace in India and in Gujarat. Does the average age of Gujarati voters differ from that of the population? Let’s find out."
      ]
    },
    {
      "cell_type": "code",
      "metadata": {
        "colab": {
          "base_uri": "https://localhost:8080/"
        },
        "id": "CT0QSOLjOxTY",
        "outputId": "11049e06-e701-4586-b5ac-75b8ebfdeb78"
      },
      "source": [
        ">>> import numpy as np\r\n",
        ">>> import pandas as pd\r\n",
        ">>> import scipy.stats as stats\r\n",
        ">>> import matplotlib.pyplot as plt\r\n",
        ">>> import math\r\n",
        ">>> np.random.seed(6)\r\n",
        ">>> population_ages1=stats.poisson.rvs(loc=18,mu=35,size=150000)\r\n",
        ">>> population_ages2=stats.poisson.rvs(loc=18,mu=10,size=100000)\r\n",
        ">>> population_ages=np.concatenate((population_ages1,population_ages2))\r\n",
        ">>> gujarat_ages1=stats.poisson.rvs(loc=18,mu=30,size=30)\r\n",
        ">>> gujarat_ages2=stats.poisson.rvs(loc=18,mu=10,size=20)\r\n",
        ">>> gujarat_ages=np.concatenate((gujarat_ages1,gujarat_ages2))\r\n",
        ">>> population_ages.mean()\r\n",
        ">>> stats.ttest_1samp(a=gujarat_ages,popmean=population_ages.mean())"
      ],
      "execution_count": null,
      "outputs": [
        {
          "output_type": "execute_result",
          "data": {
            "text/plain": [
              "Ttest_1sampResult(statistic=-2.5742714883655027, pvalue=0.013118685425061678)"
            ]
          },
          "metadata": {
            "tags": []
          },
          "execution_count": 1
        }
      ]
    },
    {
      "cell_type": "markdown",
      "metadata": {
        "id": "8_9ginndPtLj"
      },
      "source": [
        "**Ttest_1sampResult(statistic=-2.5742714883655027, pvalue=0.013118685425061678)**\r\n",
        "\r\n",
        "Now this value of -2.574 tells us how aberrant the sample mean is from the null hypothesis."
      ]
    },
    {
      "cell_type": "markdown",
      "metadata": {
        "id": "zuEKn_tRP5cW"
      },
      "source": [
        "# **B. Two-sample T-test With Python**\r\n",
        " Such a test tells us whether two data samples have different means. Here, we take the null hypothesis that both groups have equal means. We don’t need a known population parameter for this."
      ]
    },
    {
      "cell_type": "code",
      "metadata": {
        "colab": {
          "base_uri": "https://localhost:8080/"
        },
        "id": "Mmb7Wd9SP-00",
        "outputId": "4bd8f684-55fa-48a6-8cda-2e1bb7171acc"
      },
      "source": [
        ">>> np.random.seed(12)\r\n",
        ">>> maharashtra_ages1=stats.poisson.rvs(loc=18,mu=33,size=30)\r\n",
        ">>> maharashtra_ages2=stats.poisson.rvs(loc=18,mu=13,size=20)\r\n",
        ">>> maharashtra_ages=np.concatenate((maharashtra_ages1,maharashtra_ages2))\r\n",
        ">>> maharashtra_ages.mean()\r\n",
        ">>> stats.ttest_ind(a=gujarat_ages,b=maharashtra_ages,equal_var=False)"
      ],
      "execution_count": null,
      "outputs": [
        {
          "output_type": "execute_result",
          "data": {
            "text/plain": [
              "Ttest_indResult(statistic=-1.7083870793286842, pvalue=0.09073104343957748)"
            ]
          },
          "metadata": {
            "tags": []
          },
          "execution_count": 2
        }
      ]
    },
    {
      "cell_type": "markdown",
      "metadata": {
        "id": "8PRNu-0dQLRz"
      },
      "source": [
        "**Ttest_indResult(statistic=-1.4415218453964938, pvalue=0.1526272389714945)**\r\n",
        "\r\n",
        "The value of 0.152 tells us there’s a 15.2% chance that the sample data is such far apart for two identical groups. This is greater than the 5% confidence level."
      ]
    },
    {
      "cell_type": "markdown",
      "metadata": {
        "id": "IRatQ3Y-QSaC"
      },
      "source": [
        "# **C.Paired T-test With Python**\r\n",
        "When you want to check how different samples from the same group are, you can go for a paired T-test. Let’s take an example."
      ]
    },
    {
      "cell_type": "code",
      "metadata": {
        "colab": {
          "base_uri": "https://localhost:8080/"
        },
        "id": "3lOtg4VOQWQ9",
        "outputId": "d9ff3cc8-ba9e-4cf0-f728-4c70ed316360"
      },
      "source": [
        ">>> np.random.seed(11)\r\n",
        ">>> before=stats.norm.rvs(scale=30,loc=250,size=100)\r\n",
        ">>> after=before+stats.norm.rvs(scale=5,loc=-1.25,size=100)\r\n",
        ">>> weight_df=pd.DataFrame({\"weight_before\":before,\r\n",
        "                         \"weight_after\":after,\r\n",
        "                         \"weight_change\":after-before})\r\n",
        ">>> weight_df.describe()\r\n",
        ">>> stats.ttest_rel(a=before,b=after)"
      ],
      "execution_count": null,
      "outputs": [
        {
          "output_type": "execute_result",
          "data": {
            "text/plain": [
              "Ttest_relResult(statistic=2.5720175998568284, pvalue=0.011596444318439857)"
            ]
          },
          "metadata": {
            "tags": []
          },
          "execution_count": 4
        }
      ]
    },
    {
      "cell_type": "markdown",
      "metadata": {
        "id": "9G6vlMeeQcFM"
      },
      "source": [
        "**Ttest_relResult(statistic=2.5720175998568284, pvalue=0.011596444318439857)**\r\n",
        "\r\n",
        "So, we see we have just 1% chances to find such huge differences between samples."
      ]
    }
  ]
}