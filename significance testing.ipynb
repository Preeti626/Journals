{
  "nbformat": 4,
  "nbformat_minor": 0,
  "metadata": {
    "colab": {
      "name": "Untitled0.ipynb",
      "provenance": []
    },
    "kernelspec": {
      "name": "python3",
      "display_name": "Python 3"
    }
  },
  "cells": [
    {
      "cell_type": "markdown",
      "metadata": {
        "id": "JcHIOO__F8YU"
      },
      "source": [
        "**One sample t-test** : The One Sample t Test determines whether the sample mean is statistically different from a known or hypothesised population mean. The One Sample t Test is a parametric test."
      ]
    },
    {
      "cell_type": "code",
      "metadata": {
        "colab": {
          "base_uri": "https://localhost:8080/"
        },
        "id": "HouyWreT-ePS",
        "outputId": "ae781b7b-3570-43aa-b72d-3ebd31c5d01b"
      },
      "source": [
        "#\r\n",
        "from scipy.stats import ttest_1samp\r\n",
        "import numpy as np\r\n",
        "ages = [32,34,29,29,22, 39, 38,37,22,22]\r\n",
        "print(\"Ages=\",ages)\r\n",
        "ages_mean = np.mean(ages)\r\n",
        "print(\"Mean age = \",ages_mean)\r\n",
        "tset, pval = ttest_1samp(ages, 30)\r\n",
        "print(\"P-Value = \",pval)\r\n",
        "if pval < 0.05:    # alpha value is 0.05 or 5%\r\n",
        "   print(\" we are rejecting null hypothesis\")\r\n",
        "else:\r\n",
        "  print(\"we are accepting null hypothesis\")"
      ],
      "execution_count": 13,
      "outputs": [
        {
          "output_type": "stream",
          "text": [
            "Ages= [32, 34, 29, 29, 22, 39, 38, 37, 22, 22]\n",
            "Mean age =  30.4\n",
            "P-Value =  0.854866959674024\n",
            "we are accepting null hypothesis\n"
          ],
          "name": "stdout"
        }
      ]
    },
    {
      "cell_type": "markdown",
      "metadata": {
        "id": "4RBciMrSLH8D"
      },
      "source": [
        "P value and alpha values(usually taken as 0.01, 0.05, or 0.1.)are compared to establish the statistical significance.\r\n",
        "\r\n",
        "If p value <= alpha we reject the null hypothesis and say that the data is statistically significant. otherwise we accept the null hypothesis."
      ]
    },
    {
      "cell_type": "markdown",
      "metadata": {
        "id": "_zoaE40vKOxO"
      },
      "source": [
        "**T-Test** are used to determine if there is significant deference between means of two variables. and lets us know if they belong to the same distribution.\r\n",
        "\r\n",
        "It is a two tailed test."
      ]
    },
    {
      "cell_type": "markdown",
      "metadata": {
        "id": "IB34EVW8GN9m"
      },
      "source": [
        "**Two sampled T-test** :-The Independent Samples t Test or 2-sample t-test compares the means of two independent groups in order to determine whether there is statistical evidence that the associated population means are significantly different. The Independent Samples t Test is a parametric test. This test is also known as: Independent t Test."
      ]
    },
    {
      "cell_type": "code",
      "metadata": {
        "colab": {
          "base_uri": "https://localhost:8080/"
        },
        "id": "l-oGtDk-FfCw",
        "outputId": "3cad5492-ebcc-4997-f4e3-58539278e3a1"
      },
      "source": [
        "from scipy.stats import ttest_ind\r\n",
        "import numpy as np\r\n",
        "week1 = [1,2,3,4,5,6,7,8]\r\n",
        "week2 = [10,20,30,40,50,60,70,80]\r\n",
        "print(week1)\r\n",
        "print(\"week2 data :-\\n\")\r\n",
        "print(week2)\r\n",
        "week1_mean = np.mean(week1)\r\n",
        "week2_mean = np.mean(week2)\r\n",
        "print(\"week1 mean value:\",week1_mean)\r\n",
        "print(\"week2 mean value:\",week2_mean)\r\n",
        "week1_std = np.std(week1)\r\n",
        "week2_std = np.std(week2)\r\n",
        "print(\"week1 std value:\",week1_std)\r\n",
        "print(\"week2 std value:\",week2_std)\r\n",
        "ttest,pval = ttest_ind(week1,week2)\r\n",
        "print(\"p-value\",pval)\r\n",
        "if pval <0.05:\r\n",
        "  print(\"we reject null hypothesis\")\r\n",
        "else:\r\n",
        "  print(\"we accept null hypothesis\")"
      ],
      "execution_count": 14,
      "outputs": [
        {
          "output_type": "stream",
          "text": [
            "[1, 2, 3, 4, 5, 6, 7, 8]\n",
            "week2 data :-\n",
            "\n",
            "[10, 20, 30, 40, 50, 60, 70, 80]\n",
            "week1 mean value: 4.5\n",
            "week2 mean value: 45.0\n",
            "week1 std value: 2.29128784747792\n",
            "week2 std value: 22.9128784747792\n",
            "p-value 0.00037272320884015577\n",
            "we reject null hypothesis\n"
          ],
          "name": "stdout"
        }
      ]
    }
  ]
}